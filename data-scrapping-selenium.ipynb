{
 "cells": [
  {
   "cell_type": "code",
   "execution_count": 82,
   "id": "ca4c2fd2-ce3e-4df8-b8b0-3ba9f7b7eb69",
   "metadata": {},
   "outputs": [],
   "source": [
    "from time import sleep\n",
    "from selenium import webdriver\n",
    "import nltk\n",
    "from nltk.tokenize import sent_tokenize, word_tokenize\n",
    "# import matplotlib.pyplot as plt\n",
    "# %pylab inline\n",
    "import numpy as np\n",
    "import pandas as pd"
   ]
  },
  {
   "cell_type": "code",
   "execution_count": 83,
   "id": "c8e0bcf2-112f-4dcc-89cc-e921548cc88b",
   "metadata": {},
   "outputs": [],
   "source": [
    "driver = webdriver.Chrome('/Users/pujawardani/Documents/chromedriver')\n",
    "driver.get('https://www.traveloka.com/id-id/hotel/indonesia/hotel-tentrem-yogyakarta-409746?spec=12-08-2021.13-08-2021.1.1.HOTEL.409746.Hotel%20Tentrem%20Yogyakarta.1')"
   ]
  },
  {
   "cell_type": "code",
   "execution_count": 84,
   "id": "116b014e-f906-41b6-9b59-8b2a81bdc308",
   "metadata": {},
   "outputs": [],
   "source": [
    "# comments = pd.DataFrame(columns = ['review'])\n",
    "review = driver.find_elements_by_xpath('//div[@class=\"css-1dbjc4n\"]')\n",
    "\n",
    "review_list = []\n",
    "for r in range(len(review)):\n",
    "    review_list.append(review[r].text)\n",
    "    \n",
    "comments = pd.DataFrame(review_list,columns=['review'])"
   ]
  },
  {
   "cell_type": "code",
   "execution_count": 79,
   "id": "5e6ee5fa-c893-421a-be3d-3fe7fc6623ff",
   "metadata": {},
   "outputs": [
    {
     "name": "stdout",
     "output_type": "stream",
     "text": [
      "                                               review\n",
      "0                         Pravangesta A. A.\\n0 Review\n",
      "1   Pelayanannya baik sekali. Kamar mewah. Sayang ...\n",
      "2                                                    \n",
      "3                                                    \n",
      "4   Bapak Pravangesta yang terhormat\\n\\nSalam hang...\n",
      "..                                                ...\n",
      "74                                                   \n",
      "75                                                   \n",
      "76                                                   \n",
      "77                                                   \n",
      "78                                                   \n",
      "\n",
      "[79 rows x 1 columns]\n"
     ]
    }
   ],
   "source": [
    "print(comments)"
   ]
  },
  {
   "cell_type": "code",
   "execution_count": 81,
   "id": "27991958-e9bc-419c-ad96-419a57a68183",
   "metadata": {},
   "outputs": [],
   "source": [
    "def remove_space(s):\n",
    "    return s.replace(\"\\n\",\" \")\n",
    "\n",
    "# comments_copy['comments'] = comments_copy['comments'].apply(remove_space)\n",
    "comments.to_csv('comments.csv', header=True, sep=',')\n"
   ]
  },
  {
   "cell_type": "code",
   "execution_count": null,
   "id": "85035f43-0891-4cb8-b7d4-16d1b11c5213",
   "metadata": {},
   "outputs": [],
   "source": []
  }
 ],
 "metadata": {
  "kernelspec": {
   "display_name": "Python 3",
   "language": "python",
   "name": "python3"
  },
  "language_info": {
   "codemirror_mode": {
    "name": "ipython",
    "version": 3
   },
   "file_extension": ".py",
   "mimetype": "text/x-python",
   "name": "python",
   "nbconvert_exporter": "python",
   "pygments_lexer": "ipython3",
   "version": "3.9.5"
  }
 },
 "nbformat": 4,
 "nbformat_minor": 5
}
