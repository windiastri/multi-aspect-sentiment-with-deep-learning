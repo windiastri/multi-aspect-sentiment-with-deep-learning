   {
    "cell_type": "code",
    "execution_count": 82,
-   "id": "ca4c2fd2-ce3e-4df8-b8b0-3ba9f7b7eb69",
-   "metadata": {},
-   "outputs": [],
    "source": [
     "from time import sleep\n",
     "from selenium import webdriver\n",
     "import nltk\n",
     "from nltk.tokenize import sent_tokenize, word_tokenize\n",
-    "# import matplotlib.pyplot as plt\n",
-    "# %pylab inline\n",
     "import numpy as np\n",
-    "import pandas as pd"
-   ]
+    "import pandas as pd\n",
+    "from openpyxl import Workbook\n",
+    "import csv"
+   ],
+   "outputs": [],
+   "metadata": {}
   },
   {
    "cell_type": "code",
    "execution_count": 83,
-   "id": "c8e0bcf2-112f-4dcc-89cc-e921548cc88b",
-   "metadata": {},
-   "outputs": [],
    "source": [
+    "urls = {\n",
+    "    'link1': \"https://www.agoda.com/id-id/aveon-hotel-yogyakarta/hotel/yogyakarta-id.html?finalPriceView=1&isShowMobileAppPrice=false&cid=1891460&numberOfBedrooms=&familyMode=false&adults=2&children=0&rooms=1&maxRooms=0&checkIn=2021-08-21&isCalendarCallout=false&childAges=&numberOfGuest=0&missingChildAges=false&travellerType=1&showReviewSubmissionEntry=false&currencyCode=IDR&isFreeOccSearch=false&tag=90ef0cca-083c-bb82-c29f-83a3772b3dd9&tspTypes=1,8&los=1&searchrequestid=a115d609-befd-44b9-8d89-531ec28a31f6\",\n",
+    "    'link2': \"https://www.agoda.com/id-id/innside-by-melia-yogyakarta/hotel/yogyakarta-id.html?finalPriceView=1&isShowMobileAppPrice=false&cid=1891460&numberOfBedrooms=&familyMode=false&adults=2&children=0&rooms=1&maxRooms=0&checkIn=2021-08-21&isCalendarCallout=false&childAges=&numberOfGuest=0&missingChildAges=false&travellerType=1&showReviewSubmissionEntry=false&currencyCode=IDR&isFreeOccSearch=false&tag=90ef0cca-083c-bb82-c29f-83a3772b3dd9&tspTypes=8&los=1&searchrequestid=a115d609-befd-44b9-8d89-531ec28a31f6\", \n",
+    "    'link3': \"https://www.agoda.com/id-id/grand-inna-malioboro/hotel/yogyakarta-id.html?finalPriceView=1&isShowMobileAppPrice=false&cid=1891460&numberOfBedrooms=&familyMode=false&adults=2&children=0&rooms=1&maxRooms=0&checkIn=2021-08-21&isCalendarCallout=false&childAges=&numberOfGuest=0&missingChildAges=false&travellerType=1&showReviewSubmissionEntry=false&currencyCode=IDR&isFreeOccSearch=false&tag=90ef0cca-083c-bb82-c29f-83a3772b3dd9&tspTypes=9,8&los=1&searchrequestid=a115d609-befd-44b9-8d89-531ec28a31f6\",\n",
+    "}\n",
+    "\n",
     "driver = webdriver.Chrome('/Users/pujawardani/Documents/chromedriver')\n",
-    "driver.get('https://www.traveloka.com/id-id/hotel/indonesia/hotel-tentrem-yogyakarta-409746?spec=12-08-2021.13-08-2021.1.1.HOTEL.409746.Hotel%20Tentrem%20Yogyakarta.1')"
-   ]
+    "review_list = []\n",
+    "    \n",
+    "for url in urls.values():\n",
+    "    driver.get(url)\n",
+    "    \n",
+    "    review = driver.find_elements_by_xpath('//p[@data-selenium=\"comment\"]')\n",
+    "    for r in range(len(review)):\n",
+    "        review_list.append(review[r].text)\n",
+    "    \n",
+    "comments = pd.DataFrame(review_list,columns=['review'])\n",
+    "\n",
+    "print(\"comments\", comments)"
+   ],
+   "outputs": [],
+   "metadata": {}
   },
   {
    "cell_type": "code",
    "execution_count": 84,
-   "id": "116b014e-f906-41b6-9b59-8b2a81bdc308",
-   "metadata": {},
-   "outputs": [],
    "source": [
-    "# comments = pd.DataFrame(columns = ['review'])\n",
-    "review = driver.find_elements_by_xpath('//div[@class=\"css-1dbjc4n\"]')\n",
+    "def remove_space(s):\n",
+    "    return s.replace(\"\\n\",\" \")\n",
     "\n",
-    "review_list = []\n",
-    "for r in range(len(review)):\n",
-    "    review_list.append(review[r].text)\n",
-    "    \n",
-    "comments = pd.DataFrame(review_list,columns=['review'])"
-   ]
+    "comments.to_csv('comments_8.csv', header=True, sep=',')"
+   ],
+   "outputs": [],
+   "metadata": {}
   },
   {
    "cell_type": "code",
    "execution_count": 79,
-   "id": "5e6ee5fa-c893-421a-be3d-3fe7fc6623ff",
-   "metadata": {},
+   "source": [
+    "print(comments)"
+   ],
    "outputs": [
     {
-     "name": "stdout",
      "output_type": "stream",
+     "name": "stdout",
      "text": [
       "                                               review\n",
       "0                         Pravangesta A. A.\\n0 Review\n",
